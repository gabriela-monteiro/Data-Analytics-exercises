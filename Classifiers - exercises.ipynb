{
 "cells": [
  {
   "cell_type": "code",
   "execution_count": 4,
   "metadata": {},
   "outputs": [],
   "source": [
    "from sklearn import datasets\n",
    "import matplotlib.pyplot as plt\n",
    "\n",
    "digits = datasets.load_digits()"
   ]
  },
  {
   "cell_type": "code",
   "execution_count": 5,
   "metadata": {},
   "outputs": [],
   "source": [
    "from sklearn.model_selection import train_test_split\n",
    "import numpy as np"
   ]
  },
  {
   "cell_type": "markdown",
   "metadata": {},
   "source": [
    "## KNN"
   ]
  },
  {
   "cell_type": "code",
   "execution_count": 6,
   "metadata": {},
   "outputs": [],
   "source": [
    "X = digits.data\n",
    "y = digits.target\n",
    "\n",
    "# you can choose any random_state, \n",
    "# however, if you want to get the same result from two execution times, you need to choose the same random_state\n",
    "# if not, it may give you another result. it plays the same role as 'seed' in random() function Random state ensures \n",
    "# that the splits that you generate are reproducible. so you can change the random_state to let it shuffle and split \n",
    "# it into another subset. sometimes, you want to test if your model works the same with a setting, so you choose a fix \n",
    "# random_state\n",
    "\n",
    "X_train, X_test, y_train, y_test = train_test_split(X, y, test_size=0.2, random_state=42,stratify=y)"
   ]
  },
  {
   "cell_type": "code",
   "execution_count": 7,
   "metadata": {},
   "outputs": [],
   "source": [
    "from sklearn.neighbors import KNeighborsClassifier"
   ]
  },
  {
   "cell_type": "code",
   "execution_count": 8,
   "metadata": {},
   "outputs": [],
   "source": [
    "# the parameter n_neighbors especifies the number of neighbors you want for this model.\n",
    "knn = KNeighborsClassifier(n_neighbors=1)"
   ]
  },
  {
   "cell_type": "code",
   "execution_count": 9,
   "metadata": {},
   "outputs": [
    {
     "data": {
      "text/plain": [
       "KNeighborsClassifier(algorithm='auto', leaf_size=30, metric='minkowski',\n",
       "                     metric_params=None, n_jobs=None, n_neighbors=1, p=2,\n",
       "                     weights='uniform')"
      ]
     },
     "execution_count": 9,
     "metadata": {},
     "output_type": "execute_result"
    }
   ],
   "source": [
    "knn.fit(X_train,y_train)"
   ]
  },
  {
   "cell_type": "code",
   "execution_count": 10,
   "metadata": {},
   "outputs": [
    {
     "data": {
      "text/plain": [
       "array([5, 2, 8, 1, 7, 2, 6, 2, 6, 5, 0, 5, 9, 3, 4, 4, 2, 4, 9, 9, 6, 3,\n",
       "       8, 1, 2, 5, 6, 0, 3, 4, 6, 7, 2, 6, 6, 6, 6, 5, 0, 9, 1, 7, 9, 6,\n",
       "       5, 7, 5, 2, 7, 5, 0, 1, 5, 5, 3, 2, 4, 0, 0, 2, 7, 5, 6, 1, 3, 7,\n",
       "       6, 5, 7, 0, 9, 0, 3, 8, 2, 5, 8, 2, 3, 5, 9, 3, 2, 7, 9, 6, 8, 1,\n",
       "       0, 1, 2, 9, 4, 4, 1, 2, 7, 8, 4, 2, 6, 8, 3, 7, 3, 9, 6, 1, 1, 0,\n",
       "       9, 2, 1, 6, 3, 4, 8, 7, 1, 0, 0, 4, 6, 5, 8, 2, 8, 1, 3, 0, 0, 8,\n",
       "       6, 4, 3, 9, 3, 3, 3, 3, 0, 7, 0, 0, 1, 9, 5, 8, 1, 5, 0, 6, 6, 6,\n",
       "       6, 1, 7, 7, 6, 7, 7, 8, 7, 3, 6, 5, 9, 0, 3, 8, 0, 9, 8, 1, 9, 5,\n",
       "       9, 5, 8, 9, 9, 7, 9, 1, 9, 5, 4, 7, 3, 0, 4, 9, 7, 7, 5, 6, 5, 8,\n",
       "       3, 4, 5, 4, 9, 2, 5, 5, 2, 1, 3, 8, 8, 9, 3, 6, 1, 0, 1, 4, 0, 5,\n",
       "       5, 6, 6, 7, 4, 3, 8, 4, 1, 0, 7, 9, 2, 1, 4, 8, 4, 2, 4, 0, 0, 0,\n",
       "       2, 6, 7, 0, 4, 5, 2, 2, 9, 0, 4, 6, 8, 2, 3, 9, 2, 3, 0, 6, 8, 7,\n",
       "       1, 4, 4, 1, 1, 6, 3, 8, 1, 2, 5, 7, 8, 3, 2, 0, 3, 4, 1, 9, 9, 9,\n",
       "       6, 3, 7, 1, 6, 9, 4, 7, 1, 8, 1, 3, 0, 5, 3, 4, 1, 9, 3, 5, 4, 7,\n",
       "       4, 1, 5, 1, 5, 0, 9, 8, 4, 2, 3, 8, 4, 1, 2, 0, 1, 1, 4, 4, 5, 7,\n",
       "       5, 0, 3, 2, 2, 4, 2, 7, 7, 8, 7, 6, 3, 1, 1, 5, 8, 8, 8, 6, 7, 2,\n",
       "       7, 8, 9, 4, 2, 0, 3, 4])"
      ]
     },
     "execution_count": 10,
     "metadata": {},
     "output_type": "execute_result"
    }
   ],
   "source": [
    "# predictions will be generated based on the features from the X_test\n",
    "pred = knn.predict(X_test)\n",
    "pred"
   ]
  },
  {
   "cell_type": "code",
   "execution_count": 11,
   "metadata": {},
   "outputs": [],
   "source": [
    "from sklearn.metrics import classification_report,confusion_matrix"
   ]
  },
  {
   "cell_type": "code",
   "execution_count": 12,
   "metadata": {},
   "outputs": [
    {
     "name": "stdout",
     "output_type": "stream",
     "text": [
      "[[36  0  0  0  0  0  0  0  0  0]\n",
      " [ 0 36  0  0  0  0  0  0  0  0]\n",
      " [ 0  0 35  0  0  0  0  0  0  0]\n",
      " [ 0  0  0 37  0  0  0  0  0  0]\n",
      " [ 0  0  0  0 36  0  0  0  0  0]\n",
      " [ 0  0  0  0  0 37  0  0  0  0]\n",
      " [ 0  0  0  0  0  0 36  0  0  0]\n",
      " [ 0  0  0  0  0  0  0 36  0  0]\n",
      " [ 0  3  0  0  0  0  0  0 32  0]\n",
      " [ 0  0  0  0  1  0  0  0  1 34]]\n"
     ]
    },
    {
     "data": {
      "text/plain": [
       "<function sklearn.metrics._classification.confusion_matrix(y_true, y_pred, labels=None, sample_weight=None, normalize=None)>"
      ]
     },
     "execution_count": 12,
     "metadata": {},
     "output_type": "execute_result"
    }
   ],
   "source": [
    "#Now we can see how similar the predictions were compared to the expected results (y_test)\n",
    "print(confusion_matrix(y_test,pred))\n",
    "\n",
    "confusion_matrix"
   ]
  },
  {
   "cell_type": "code",
   "execution_count": 13,
   "metadata": {},
   "outputs": [
    {
     "name": "stdout",
     "output_type": "stream",
     "text": [
      "              precision    recall  f1-score   support\n",
      "\n",
      "           0       1.00      1.00      1.00        36\n",
      "           1       0.92      1.00      0.96        36\n",
      "           2       1.00      1.00      1.00        35\n",
      "           3       1.00      1.00      1.00        37\n",
      "           4       0.97      1.00      0.99        36\n",
      "           5       1.00      1.00      1.00        37\n",
      "           6       1.00      1.00      1.00        36\n",
      "           7       1.00      1.00      1.00        36\n",
      "           8       0.97      0.91      0.94        35\n",
      "           9       1.00      0.94      0.97        36\n",
      "\n",
      "    accuracy                           0.99       360\n",
      "   macro avg       0.99      0.99      0.99       360\n",
      "weighted avg       0.99      0.99      0.99       360\n",
      "\n"
     ]
    }
   ],
   "source": [
    "print(classification_report(y_test,pred))\n",
    "\n",
    "# It looks like the model is pretty good already with K=1."
   ]
  },
  {
   "cell_type": "code",
   "execution_count": 14,
   "metadata": {},
   "outputs": [],
   "source": [
    "##### We will check any possible value for K between 1 and 9.\n",
    "# For each of those values I will call the KNeighborsClassifier to create a model for that value.\n",
    "# Then I will fit that model to my training set.\n",
    "# Finally, I will find the average accuracy of that model, which is the average of where my predictions were not \n",
    "# equal to the actual test values (it sum up all the times that the prediction did not match the expected y_test value \n",
    "# and divide by the total number of times that the test was performed. By doing so, I find the average error. Then, I\n",
    "# subtract this value from 1 and I will have the accuracy).\n",
    "# Then I will add the average accuracy to the accuracy list.\n",
    "\n",
    "\n",
    "accuracy_test = []\n",
    "accuracy_train = []\n",
    "\n",
    "for i in range(1,9):\n",
    "    knn = KNeighborsClassifier(n_neighbors=i)\n",
    "    knn.fit(X_train,y_train)\n",
    "\n",
    "    # getting the accuracy score for the train set.\n",
    "    score_train = knn.score(X_train, y_train) \n",
    "    accuracy_train.append(score_train)\n",
    "    \n",
    "    # getting the accuracy score for the test set.\n",
    "    score_test = knn.score(X_test, y_test) \n",
    "    accuracy_test.append(score_test)\n",
    "    \n"
   ]
  },
  {
   "cell_type": "code",
   "execution_count": 15,
   "metadata": {},
   "outputs": [
    {
     "data": {
      "text/plain": [
       "Text(0, 0.5, 'Accuracy')"
      ]
     },
     "execution_count": 15,
     "metadata": {},
     "output_type": "execute_result"
    },
    {
     "data": {
      "image/png": "[encoded data removed]",
      "text/plain": [
       "<Figure size 720x432 with 1 Axes>"
      ]
     },
     "metadata": {
      "needs_background": "light"
     },
     "output_type": "display_data"
    }
   ],
   "source": [
    "plt.figure(figsize=(10,6))\n",
    "plt.plot(range(1,9),accuracy_test,color='blue', linestyle='-', label = 'Test Accuracy')\n",
    "plt.plot(range(1,9),accuracy_train,color='green', linestyle='-', label = 'Train Accuracy')\n",
    "plt.title('Accuracy vs. K Value')\n",
    "plt.xlabel('K')\n",
    "plt.ylabel('Accuracy')"
   ]
  },
  {
   "cell_type": "code",
   "execution_count": 16,
   "metadata": {},
   "outputs": [],
   "source": [
    "# #Tutor's solution\n",
    "# neighbors = np.arange(1,9)\n",
    "# train_accuracy = np.empty(len(neighbors))\n",
    "# test_accuracy = np.empty(len(neighbors))\n",
    "\n",
    "# for i, k in enumerate(neighbors):\n",
    "#     knn = KNeighborsClassifier(n_neighbors=k)\n",
    "#     knn.fit(X_train, y_train)\n",
    "#     train_accuracy[i] = knn.score(X_train, y_train)\n",
    "#     test_accuracy[i] = knn.score(X_test, y_test)\n",
    "    \n",
    "# plt.title('K-NN: Varying Number of Neighbors')\n",
    "# plt.plot(neighbors, test_accuracy, label = 'Testing Accuracy')\n",
    "# plt.plot(neighbors, train_accuracy, label = 'Training Accuracy')\n",
    "# plt.legend()\n",
    "# plt.xlabel('Number of Neighbors')\n",
    "# plt.ylabel('Accuracy')\n",
    "# plt.show()"
   ]
  },
  {
   "cell_type": "code",
   "execution_count": 17,
   "metadata": {},
   "outputs": [
    {
     "name": "stdout",
     "output_type": "stream",
     "text": [
      "WITH K=1\n",
      "\n",
      "\n",
      "[[36  0  0  0  0  0  0  0  0  0]\n",
      " [ 0 36  0  0  0  0  0  0  0  0]\n",
      " [ 0  0 35  0  0  0  0  0  0  0]\n",
      " [ 0  0  0 37  0  0  0  0  0  0]\n",
      " [ 0  0  0  0 36  0  0  0  0  0]\n",
      " [ 0  0  0  0  0 37  0  0  0  0]\n",
      " [ 0  0  0  0  0  0 36  0  0  0]\n",
      " [ 0  0  0  0  0  0  0 36  0  0]\n",
      " [ 0  3  0  0  0  0  0  0 32  0]\n",
      " [ 0  0  0  0  1  0  0  0  1 34]]\n",
      "\n",
      "\n",
      "              precision    recall  f1-score   support\n",
      "\n",
      "           0       1.00      1.00      1.00        36\n",
      "           1       0.92      1.00      0.96        36\n",
      "           2       1.00      1.00      1.00        35\n",
      "           3       1.00      1.00      1.00        37\n",
      "           4       0.97      1.00      0.99        36\n",
      "           5       1.00      1.00      1.00        37\n",
      "           6       1.00      1.00      1.00        36\n",
      "           7       1.00      1.00      1.00        36\n",
      "           8       0.97      0.91      0.94        35\n",
      "           9       1.00      0.94      0.97        36\n",
      "\n",
      "    accuracy                           0.99       360\n",
      "   macro avg       0.99      0.99      0.99       360\n",
      "weighted avg       0.99      0.99      0.99       360\n",
      "\n"
     ]
    }
   ],
   "source": [
    "# Checking again what's the accuracy when K=1\n",
    "knn = KNeighborsClassifier(n_neighbors=1)\n",
    "\n",
    "knn.fit(X_train,y_train)\n",
    "pred = knn.predict(X_test)\n",
    "\n",
    "print('WITH K=1')\n",
    "print('\\n')\n",
    "print(confusion_matrix(y_test,pred))\n",
    "print('\\n')\n",
    "print(classification_report(y_test,pred))\n"
   ]
  },
  {
   "cell_type": "code",
   "execution_count": 18,
   "metadata": {},
   "outputs": [
    {
     "name": "stdout",
     "output_type": "stream",
     "text": [
      "WITH K=6\n",
      "\n",
      "\n",
      "[[36  0  0  0  0  0  0  0  0  0]\n",
      " [ 0 36  0  0  0  0  0  0  0  0]\n",
      " [ 0  0 35  0  0  0  0  0  0  0]\n",
      " [ 0  0  0 37  0  0  0  0  0  0]\n",
      " [ 0  0  0  0 36  0  0  0  0  0]\n",
      " [ 0  0  0  0  0 37  0  0  0  0]\n",
      " [ 0  0  0  0  0  0 35  0  1  0]\n",
      " [ 0  0  0  0  0  0  0 36  0  0]\n",
      " [ 0  3  0  0  0  0  0  1 31  0]\n",
      " [ 0  0  0  0  1  0  0  0  1 34]]\n",
      "\n",
      "\n",
      "              precision    recall  f1-score   support\n",
      "\n",
      "           0       1.00      1.00      1.00        36\n",
      "           1       0.92      1.00      0.96        36\n",
      "           2       1.00      1.00      1.00        35\n",
      "           3       1.00      1.00      1.00        37\n",
      "           4       0.97      1.00      0.99        36\n",
      "           5       1.00      1.00      1.00        37\n",
      "           6       1.00      0.97      0.99        36\n",
      "           7       0.97      1.00      0.99        36\n",
      "           8       0.94      0.89      0.91        35\n",
      "           9       1.00      0.94      0.97        36\n",
      "\n",
      "    accuracy                           0.98       360\n",
      "   macro avg       0.98      0.98      0.98       360\n",
      "weighted avg       0.98      0.98      0.98       360\n",
      "\n"
     ]
    }
   ],
   "source": [
    "# Now if I try to make K=6...\n",
    "# NOW WITH K=6, I have an increase of 1% of chances of getting the class right.\n",
    "knn = KNeighborsClassifier(n_neighbors=6)\n",
    "\n",
    "knn.fit(X_train,y_train)\n",
    "pred = knn.predict(X_test)\n",
    "\n",
    "print('WITH K=6')\n",
    "print('\\n')\n",
    "print(confusion_matrix(y_test,pred))\n",
    "print('\\n')\n",
    "print(classification_report(y_test,pred))\n",
    "\n"
   ]
  },
  {
   "cell_type": "markdown",
   "metadata": {},
   "source": [
    "## Support Vector Machine"
   ]
  },
  {
   "cell_type": "code",
   "execution_count": 19,
   "metadata": {},
   "outputs": [],
   "source": [
    "# # importing SVM model\n",
    "from sklearn import svm\n",
    "from sklearn import metrics"
   ]
  },
  {
   "cell_type": "code",
   "execution_count": 20,
   "metadata": {},
   "outputs": [
    {
     "name": "stdout",
     "output_type": "stream",
     "text": [
      "\n",
      "\n",
      "The accuracy of SVM classifier is 0.9916666666666667 and the best kernel is rbf.\n"
     ]
    }
   ],
   "source": [
    "# Create a list with various types of kernel that will be tested inside the for loop.\n",
    "types = ['linear', 'poly', 'rbf']\n",
    "\n",
    "# Initiate a variable called higher_accuracy with value zero in order to keep the highest accuracy value \n",
    "# inside the for loop.\n",
    "higher_accuracy = 0\n",
    "\n",
    "for i in types:\n",
    "\n",
    "    # Create a svm Classifier    \n",
    "    clf = svm.SVC(kernel = i)\n",
    "\n",
    "    # Train the model using the training sets\n",
    "    clf.fit(X_train, y_train)\n",
    "\n",
    "    # predict the results for the test set\n",
    "    y_pred = clf.predict(X_test)\n",
    "\n",
    "    # generate the metrics report, save it inside a variable and set output_dict as true in order to grab the value of\n",
    "    # the key 'accuracy', which represents the accuracy of the kernel being evaluated.\n",
    "    \n",
    "    d = metrics.classification_report(y_test, y_pred, output_dict=True)\n",
    "    accuracy = d['accuracy']\n",
    "    if accuracy > higher_accuracy:\n",
    "        higher_accuracy = accuracy\n",
    "        best_kernel = i\n",
    "accuracy_svm = higher_accuracy\n",
    "print('\\n')\n",
    "print(f\"The accuracy of SVM classifier is {higher_accuracy} and the best kernel is {best_kernel}.\")\n"
   ]
  },
  {
   "cell_type": "markdown",
   "metadata": {},
   "source": [
    "# Naive Bayes Classifier"
   ]
  },
  {
   "cell_type": "code",
   "execution_count": 21,
   "metadata": {},
   "outputs": [],
   "source": [
    "from sklearn.naive_bayes import GaussianNB\n",
    "import pandas as pd\n",
    "import seaborn as sns\n"
   ]
  },
  {
   "cell_type": "code",
   "execution_count": 22,
   "metadata": {},
   "outputs": [],
   "source": [
    "nbc = GaussianNB()\n",
    "nbc.fit(X_train, y_train)\n",
    "pred_3 = nbc.predict(X_test)\n",
    "matrix_nbc = confusion_matrix(y_test,pred_3)"
   ]
  },
  {
   "cell_type": "code",
   "execution_count": 23,
   "metadata": {},
   "outputs": [
    {
     "data": {
      "text/plain": [
       "array([[33,  0,  0,  0,  1,  1,  0,  0,  1,  0],\n",
       "       [ 0, 29,  1,  0,  0,  0,  1,  0,  3,  2],\n",
       "       [ 0,  3, 19,  0,  0,  0,  0,  0, 13,  0],\n",
       "       [ 0,  0,  1, 26,  0,  0,  0,  1,  8,  1],\n",
       "       [ 0,  2,  0,  0, 26,  0,  1,  6,  1,  0],\n",
       "       [ 0,  0,  0,  0,  0, 35,  0,  1,  0,  1],\n",
       "       [ 0,  1,  0,  0,  0,  0, 35,  0,  0,  0],\n",
       "       [ 0,  0,  0,  0,  0,  1,  0, 35,  0,  0],\n",
       "       [ 0,  4,  1,  0,  0,  0,  0,  1, 29,  0],\n",
       "       [ 0,  3,  1,  0,  0,  0,  0,  4,  3, 25]])"
      ]
     },
     "execution_count": 23,
     "metadata": {},
     "output_type": "execute_result"
    }
   ],
   "source": [
    "matrix_nbc"
   ]
  },
  {
   "cell_type": "code",
   "execution_count": 24,
   "metadata": {},
   "outputs": [
    {
     "data": {
      "text/plain": [
       "<matplotlib.axes._subplots.AxesSubplot at 0x7faf43a53e50>"
      ]
     },
     "execution_count": 24,
     "metadata": {},
     "output_type": "execute_result"
    },
    {
     "data": {
      "image/png": "[encoded data removed]",
      "text/plain": [
       "<Figure size 720x504 with 2 Axes>"
      ]
     },
     "metadata": {
      "needs_background": "light"
     },
     "output_type": "display_data"
    }
   ],
   "source": [
    "df_nbc = pd.DataFrame(matrix_nbc, index = np.arange(0,10),\n",
    "                      columns = np.arange(0,10))\n",
    "plt.figure(figsize = (10,7))\n",
    "sns.heatmap(df_nbc, annot=True)"
   ]
  },
  {
   "cell_type": "code",
   "execution_count": 25,
   "metadata": {},
   "outputs": [
    {
     "name": "stdout",
     "output_type": "stream",
     "text": [
      "The accuracy of Naive Bayes classifier is 0.8111111111111111.\n"
     ]
    }
   ],
   "source": [
    "accuracy_nbc = nbc.score(X_test, y_test)\n",
    "accuracy_nbc\n",
    "print(f\"The accuracy of Naive Bayes classifier is {accuracy_nbc}.\")"
   ]
  },
  {
   "cell_type": "code",
   "execution_count": 26,
   "metadata": {},
   "outputs": [
    {
     "data": {
      "image/png": "[encoded data removed]",
      "text/plain": [
       "<Figure size 432x288 with 1 Axes>"
      ]
     },
     "metadata": {
      "needs_background": "light"
     },
     "output_type": "display_data"
    }
   ],
   "source": [
    "df_classifiers = pd.DataFrame({'Classifier':['Bayes', 'KNN', 'SVM'], 'Accuracy':[0.85, 0.99, 0.99]})\n",
    "ax = df_classifiers.plot.bar(x='Classifier', y='Accuracy', rot=0) # rot=0 puts the labels on the x axis writen on horizontal."
   ]
  },
  {
   "cell_type": "code",
   "execution_count": null,
   "metadata": {},
   "outputs": [],
   "source": []
  }
 ],
 "metadata": {
  "kernelspec": {
   "display_name": "Python 3",
   "language": "python",
   "name": "python3"
  },
  "language_info": {
   "codemirror_mode": {
    "name": "ipython",
    "version": 3
   },
   "file_extension": ".py",
   "mimetype": "text/x-python",
   "name": "python",
   "nbconvert_exporter": "python",
   "pygments_lexer": "ipython3",
   "version": "3.7.6"
  }
 },
 "nbformat": 4,
 "nbformat_minor": 4
}
